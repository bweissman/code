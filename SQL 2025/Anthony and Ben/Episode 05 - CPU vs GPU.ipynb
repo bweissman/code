{
    "cells": [
        {
            "cell_type": "code",
            "execution_count": null,
            "metadata": {
                "polyglot_notebook": {
                    "kernelName": "csharp"
                },
                "vscode": {
                    "languageId": "polyglot-notebook"
                }
            },
            "outputs": [],
            "source": [
                "#r \"nuget: Microsoft.DotNet.Interactive.SqlServer, *-*\""
            ]
        },
        {
            "cell_type": "code",
            "execution_count": null,
            "metadata": {
                "polyglot_notebook": {
                    "kernelName": "csharp"
                },
                "vscode": {
                    "languageId": "polyglot-notebook"
                }
            },
            "outputs": [],
            "source": [
                "#!connect mssql --kernel-name sql2025 --connection-string \"Server=sql-ctp20;TrustServerCertificate=True;Integrated Security=True\""
            ]
        },
        {
            "cell_type": "code",
            "execution_count": null,
            "metadata": {
                "polyglot_notebook": {
                    "kernelName": "sql-sql2025"
                },
                "vscode": {
                    "languageId": "polyglot-notebook"
                }
            },
            "outputs": [],
            "source": [
                "SELECT @@VERSION"
            ]
        },
        {
            "cell_type": "code",
            "execution_count": null,
            "metadata": {
                "polyglot_notebook": {
                    "kernelName": "sql-sql2025"
                },
                "vscode": {
                    "languageId": "polyglot-notebook"
                }
            },
            "outputs": [],
            "source": [
                "USE master\n",
                "IF EXISTS (SELECT name FROM sys.databases WHERE name='CPUvsGPU')BEGIN\n",
                "    ALTER DATABASE CPUvsGPU SET SINGLE_USER WITH ROLLBACK IMMEDIATE;\n",
                "    DROP DATABASE CPUvsGPU;\n",
                "END\n",
                "GO\n",
                "CREATE DATABASE CPUvsGPU\n",
                "GO\n",
                "USE CPUvsGPU\n",
                "GO\n",
                "create master key encryption by password = 'MyTest!Mast3rP4ss'\n",
                "GO\n",
                "sp_configure 'external rest endpoint enabled', 1;\n",
                "RECONFIGURE WITH OVERRIDE"
            ]
        },
        {
            "cell_type": "code",
            "execution_count": null,
            "metadata": {
                "polyglot_notebook": {
                    "kernelName": "sql-sql2025"
                },
                "vscode": {
                    "languageId": "polyglot-notebook"
                }
            },
            "outputs": [],
            "source": [
                "CREATE EXTERNAL MODEL ollama\n",
                "WITH (\n",
                "    LOCATION = 'https://ai-gpu.lab.bwdemo.io:443/api/embed',\n",
                "    API_FORMAT = 'ollama',\n",
                "    MODEL_TYPE = EMBEDDINGS,\n",
                "    MODEL = 'nomic-embed-text'\n",
                ");"
            ]
        },
        {
            "cell_type": "code",
            "execution_count": null,
            "metadata": {
                "polyglot_notebook": {
                    "kernelName": "sql-sql2025"
                },
                "vscode": {
                    "languageId": "polyglot-notebook"
                }
            },
            "outputs": [],
            "source": [
                "CREATE EXTERNAL MODEL ollamacpu\n",
                "WITH (\n",
                "    LOCATION = 'https://ai-cpu.lab.bwdemo.io:443/api/embed',\n",
                "    API_FORMAT = 'ollama',\n",
                "    MODEL_TYPE = EMBEDDINGS,\n",
                "    MODEL = 'nomic-embed-text'\n",
                ");"
            ]
        },
        {
            "cell_type": "code",
            "execution_count": null,
            "metadata": {
                "polyglot_notebook": {
                    "kernelName": "sql-sql2025"
                },
                "vscode": {
                    "languageId": "polyglot-notebook"
                }
            },
            "outputs": [],
            "source": [
                "CREATE TABLE RandomTexts (\n",
                "    RandomText NVARCHAR(max),\n",
                "    embeddings VECTOR(768)\n",
                ");"
            ]
        },
        {
            "cell_type": "code",
            "execution_count": null,
            "metadata": {
                "polyglot_notebook": {
                    "kernelName": "sql-sql2025"
                },
                "vscode": {
                    "languageId": "polyglot-notebook"
                }
            },
            "outputs": [],
            "source": [
                "SET NOCOUNT ON;\n",
                "DECLARE @response NVARCHAR(MAX);\n",
                "\n",
                "EXEC sp_invoke_external_rest_endpoint\n",
                "    @url = N'https://openlibrary.org/search.json?q=SQL%20Server',\n",
                "    @method = 'GET',\n",
                "    @response = @response OUTPUT;\n",
                " \n",
                "TRUNCATE TABLE RandomTexts\n",
                "INSERT INTO RandomTexts (RandomText)\n",
                "SELECT Json_value(value, '$.title') +  isnull (' - ' + Json_value(value, '$.author_name[*]'),'')\n",
                "FROM   Openjson(Json_query(@response, '$.result.docs'), 'strict $') AS export \n",
                "\n",
                "SET NOCOUNT OFF;\n"
            ]
        },
        {
            "cell_type": "code",
            "execution_count": null,
            "metadata": {
                "polyglot_notebook": {
                    "kernelName": "sql-sql2025"
                },
                "vscode": {
                    "languageId": "polyglot-notebook"
                }
            },
            "outputs": [],
            "source": [
                "SELECT TOP 5 RandomText FROM RandomTexts"
            ]
        },
        {
            "cell_type": "code",
            "execution_count": null,
            "metadata": {
                "polyglot_notebook": {
                    "kernelName": "sql-sql2025"
                },
                "vscode": {
                    "languageId": "polyglot-notebook"
                }
            },
            "outputs": [],
            "source": [
                "SELECT COUNT(*) FROM RandomTexts"
            ]
        },
        {
            "cell_type": "code",
            "execution_count": null,
            "metadata": {
                "polyglot_notebook": {
                    "kernelName": "sql-sql2025"
                },
                "vscode": {
                    "languageId": "polyglot-notebook"
                }
            },
            "outputs": [],
            "source": [
                "update RandomTexts set embeddings = AI_GENERATE_EMBEDDINGS(RandomText,ollama)"
            ]
        },
        {
            "cell_type": "code",
            "execution_count": null,
            "metadata": {
                "polyglot_notebook": {
                    "kernelName": "sql-sql2025"
                },
                "vscode": {
                    "languageId": "polyglot-notebook"
                }
            },
            "outputs": [],
            "source": [
                "update RandomTexts set embeddings = AI_GENERATE_EMBEDDINGS(RandomText,ollamacpu)"
            ]
        },
        {
            "cell_type": "code",
            "execution_count": null,
            "metadata": {
                "polyglot_notebook": {
                    "kernelName": "sql-sql2025"
                },
                "vscode": {
                    "languageId": "polyglot-notebook"
                }
            },
            "outputs": [],
            "source": [
                "update RandomTexts set RandomText = RandomText + ' ' + RandomText + ' ' + RandomText"
            ]
        },
        {
            "cell_type": "code",
            "execution_count": null,
            "metadata": {
                "polyglot_notebook": {
                    "kernelName": "sql-sql2025"
                },
                "vscode": {
                    "languageId": "polyglot-notebook"
                }
            },
            "outputs": [],
            "source": [
                "update RandomTexts set embeddings = AI_GENERATE_EMBEDDINGS(RandomText,ollama)"
            ]
        },
        {
            "cell_type": "code",
            "execution_count": null,
            "metadata": {
                "polyglot_notebook": {
                    "kernelName": "sql-sql2025"
                },
                "vscode": {
                    "languageId": "polyglot-notebook"
                }
            },
            "outputs": [],
            "source": [
                "update RandomTexts set embeddings = AI_GENERATE_EMBEDDINGS(RandomText,ollamacpu)"
            ]
        },
        {
            "cell_type": "code",
            "execution_count": null,
            "metadata": {
                "polyglot_notebook": {
                    "kernelName": "sql-sql2025"
                },
                "vscode": {
                    "languageId": "polyglot-notebook"
                }
            },
            "outputs": [],
            "source": [
                "update RandomTexts set RandomText = RandomText + ' ' + RandomText + ' ' + RandomText"
            ]
        },
        {
            "cell_type": "code",
            "execution_count": null,
            "metadata": {
                "polyglot_notebook": {
                    "kernelName": "sql-sql2025"
                },
                "vscode": {
                    "languageId": "polyglot-notebook"
                }
            },
            "outputs": [],
            "source": [
                "update RandomTexts set embeddings = AI_GENERATE_EMBEDDINGS(RandomText,ollama)"
            ]
        },
        {
            "cell_type": "code",
            "execution_count": null,
            "metadata": {
                "polyglot_notebook": {
                    "kernelName": "sql-sql2025"
                },
                "vscode": {
                    "languageId": "polyglot-notebook"
                }
            },
            "outputs": [],
            "source": [
                "update RandomTexts set embeddings = AI_GENERATE_EMBEDDINGS(RandomText,ollamacpu)"
            ]
        },
        {
            "cell_type": "code",
            "execution_count": null,
            "metadata": {
                "polyglot_notebook": {
                    "kernelName": "sql-sql2025"
                },
                "vscode": {
                    "languageId": "polyglot-notebook"
                }
            },
            "outputs": [],
            "source": [
                "SET NOCOUNT ON;\n",
                "INSERT INTO RandomTexts (RandomText)\n",
                "SELECT RandomText FROM RandomTexts\n",
                "INSERT INTO RandomTexts (RandomText)\n",
                "SELECT RandomText FROM RandomTexts\n",
                "INSERT INTO RandomTexts (RandomText)\n",
                "SELECT RandomText FROM RandomTexts\n",
                "SELECT COUNT(*) FROM RandomTexts\n",
                "SET NOCOUNT OFF;"
            ]
        },
        {
            "cell_type": "code",
            "execution_count": null,
            "metadata": {
                "polyglot_notebook": {
                    "kernelName": "sql-sql2025"
                },
                "vscode": {
                    "languageId": "polyglot-notebook"
                }
            },
            "outputs": [],
            "source": [
                "update RandomTexts set embeddings = AI_GENERATE_EMBEDDINGS(RandomText,ollama)"
            ]
        },
        {
            "cell_type": "code",
            "execution_count": null,
            "metadata": {
                "polyglot_notebook": {
                    "kernelName": "sql-sql2025"
                },
                "vscode": {
                    "languageId": "polyglot-notebook"
                }
            },
            "outputs": [],
            "source": [
                "update RandomTexts set embeddings = AI_GENERATE_EMBEDDINGS(RandomText,ollamacpu)"
            ]
        }
    ],
    "metadata": {
        "kernelspec": {
            "display_name": ".NET (C#)",
            "language": "C#",
            "name": ".net-csharp"
        },
        "language_info": {
            "name": "sql",
            "version": ""
        },
        "polyglot_notebook": {
            "kernelInfo": {
                "defaultKernelName": "csharp",
                "items": [
                    {
                        "aliases": [],
                        "name": "csharp"
                    },
                    {
                        "aliases": [],
                        "languageName": "T-SQL",
                        "name": "sql-sql2025"
                    }
                ]
            }
        }
    },
    "nbformat": 4,
    "nbformat_minor": 2
}
