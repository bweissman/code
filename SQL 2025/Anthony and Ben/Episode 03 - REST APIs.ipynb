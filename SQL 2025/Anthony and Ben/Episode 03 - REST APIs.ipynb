{
    "cells": [
        {
            "cell_type": "code",
            "execution_count": null,
            "metadata": {
                "polyglot_notebook": {
                    "kernelName": "csharp"
                },
                "vscode": {
                    "languageId": "polyglot-notebook"
                }
            },
            "outputs": [],
            "source": [
                "#r \"nuget: Microsoft.DotNet.Interactive.SqlServer, *-*\""
            ]
        },
        {
            "cell_type": "code",
            "execution_count": null,
            "metadata": {
                "polyglot_notebook": {
                    "kernelName": "csharp"
                },
                "vscode": {
                    "languageId": "polyglot-notebook"
                }
            },
            "outputs": [],
            "source": [
                "#!connect mssql --kernel-name sql2025 --connection-string \"Server=localhost;TrustServerCertificate=True;Integrated Security=True\""
            ]
        },
        {
            "cell_type": "code",
            "execution_count": null,
            "metadata": {
                "polyglot_notebook": {
                    "kernelName": "sql-sql2025"
                },
                "vscode": {
                    "languageId": "polyglot-notebook"
                }
            },
            "outputs": [],
            "source": [
                "SELECT @@VERSION"
            ]
        },
        {
            "cell_type": "code",
            "execution_count": null,
            "metadata": {
                "polyglot_notebook": {
                    "kernelName": "sql-sql2025"
                },
                "vscode": {
                    "languageId": "polyglot-notebook"
                }
            },
            "outputs": [],
            "source": [
                "USE master\n",
                "IF EXISTS (SELECT name FROM sys.databases WHERE name='RESTAPI')BEGIN\n",
                "    ALTER DATABASE RESTAPI SET SINGLE_USER WITH ROLLBACK IMMEDIATE;\n",
                "    DROP DATABASE RESTAPI;\n",
                "END\n",
                "GO\n",
                "CREATE DATABASE RESTAPI\n",
                "GO\n",
                "USE RESTAPI\n",
                "GO\n",
                "create master key encryption by password = 'MyTest!Mast3rP4ss'\n",
                "GO\n",
                "sp_configure 'external rest endpoint enabled', 1;\n",
                "RECONFIGURE WITH OVERRIDE"
            ]
        },
        {
            "cell_type": "code",
            "execution_count": null,
            "metadata": {
                "polyglot_notebook": {
                    "kernelName": "sql-sql2025"
                },
                "vscode": {
                    "languageId": "polyglot-notebook"
                }
            },
            "outputs": [],
            "source": [
                "DECLARE @response NVARCHAR(max)\n",
                "\n",
                "EXEC Sp_invoke_external_rest_endpoint\n",
                "  @url = N'https://datausa.io/api/data?drilldowns=State&measures=Population&year=latest',\n",
                "  @method = 'GET',\n",
                "  @response = @response output;\n",
                "\n",
                "SELECT TOP 5 * FROM Openjson(Json_query(@response, '$.result.data')) A "
            ]
        },
        {
            "cell_type": "code",
            "execution_count": null,
            "metadata": {
                "polyglot_notebook": {
                    "kernelName": "sql-sql2025"
                },
                "vscode": {
                    "languageId": "polyglot-notebook"
                }
            },
            "outputs": [],
            "source": [
                "DECLARE @response NVARCHAR(max)\n",
                "\n",
                "EXEC Sp_invoke_external_rest_endpoint\n",
                "  @url = N'https://reqres.in/api/products/',\n",
                "  @headers = '{\"x-api-key\":\"reqres-free-v1\"}',\n",
                "  @method = 'GET',\n",
                "  @response = @response output;\n",
                "\n",
                "SELECT * FROM   Openjson(Json_query(@response, '$.result.data')) A "
            ]
        },
        {
            "cell_type": "code",
            "execution_count": null,
            "metadata": {
                "polyglot_notebook": {
                    "kernelName": "sql-sql2025"
                },
                "vscode": {
                    "languageId": "polyglot-notebook"
                }
            },
            "outputs": [],
            "source": [
                "CREATE DATABASE SCOPED CREDENTIAL [https://reqres.in/api/]\n",
                "WITH IDENTITY = 'HTTPEndpointHeaders', SECRET = '{\"x-api-key\":\"reqres-free-v1\"}';\n"
            ]
        },
        {
            "cell_type": "code",
            "execution_count": null,
            "metadata": {
                "polyglot_notebook": {
                    "kernelName": "sql-sql2025"
                },
                "vscode": {
                    "languageId": "polyglot-notebook"
                }
            },
            "outputs": [],
            "source": [
                "DECLARE @response NVARCHAR(max)\n",
                "\n",
                "EXEC Sp_invoke_external_rest_endpoint\n",
                "  @url = N'https://reqres.in/api/products/',\n",
                "  @credential = [https://reqres.in/api/],\n",
                "  @method = 'GET',\n",
                "  @response = @response output;\n",
                "\n",
                "SELECT * FROM   Openjson(Json_query(@response, '$.result.data')) A "
            ]
        },
        {
            "cell_type": "code",
            "execution_count": null,
            "metadata": {
                "polyglot_notebook": {
                    "kernelName": "sql-sql2025"
                },
                "vscode": {
                    "languageId": "polyglot-notebook"
                }
            },
            "outputs": [],
            "source": [
                "DECLARE @response NVARCHAR(max)\n",
                "\n",
                "EXEC Sp_invoke_external_rest_endpoint\n",
                "  @url = N'https://reqres.in/api/products/',\n",
                "  @credential = [https://reqres.in/api/],\n",
                "  @method = 'GET',\n",
                "  @response = @response output;\n",
                "\n",
                "SELECT Json_value(value, '$.name')          name,\n",
                "       Json_value(value, '$.color')         color,\n",
                "       Json_value(value, '$.pantone_value') pantone_value\n",
                "FROM   Openjson(Json_query(@response, '$.result.data'), 'strict $') AS export "
            ]
        },
        {
            "cell_type": "code",
            "execution_count": null,
            "metadata": {
                "polyglot_notebook": {
                    "kernelName": "sql-sql2025"
                },
                "vscode": {
                    "languageId": "polyglot-notebook"
                }
            },
            "outputs": [],
            "source": [
                "DECLARE @response NVARCHAR(max)\n",
                "DECLARE @prompt NVARCHAR(max) = N'what is the airspeed velocity of an unladen swallow?'\n",
                "DECLARE @model NVARCHAR(250) = N'smollm2'\n",
                "DECLARE @payload NVARCHAR(max) = N'{\"model\":\"' + @model + '\",\"prompt\":\"' + @prompt + '\",\"stream\": false }'\n",
                "\n",
                "EXEC Sp_invoke_external_rest_endpoint\n",
                "  @url = N'https://localhost:443/api/generate',\n",
                "  @payload = @payload,\n",
                "  @timeout = 230,\n",
                "  @response = @response output;\n",
                "\n",
                "SELECT value\n",
                "FROM   Openjson(Json_query(@response, '$.result')) A\n",
                "WHERE  [key] = 'response' "
            ]
        },
        {
            "cell_type": "code",
            "execution_count": null,
            "metadata": {
                "polyglot_notebook": {
                    "kernelName": "sql-sql2025"
                },
                "vscode": {
                    "languageId": "polyglot-notebook"
                }
            },
            "outputs": [],
            "source": [
                "DECLARE @prompt NVARCHAR(max)\n",
                "\n",
                "SELECT TOP 1 @prompt = 'You are at a conference called PASS Data Community Summit and attended the session below. Please write a Linkedin post about what you liked about the session. '\n",
                "          + mainspeaker + ' -' + title + ' -' + [description]\n",
                "FROM   conferencesessions.dbo.sessions\n",
                "WHERE  speakers LIKE '%weissman%'\n",
                "\n",
                "SELECT @prompt "
            ]
        },
        {
            "cell_type": "code",
            "execution_count": null,
            "metadata": {
                "polyglot_notebook": {
                    "kernelName": "sql-sql2025"
                },
                "vscode": {
                    "languageId": "polyglot-notebook"
                }
            },
            "outputs": [],
            "source": [
                "DECLARE @prompt NVARCHAR(max)\n",
                "\n",
                "SELECT TOP 1 @prompt = 'You are at a conference called PASS Data Community Summit and attended the session below. Please write a Linkedin post about what you liked about the session. '\n",
                "          + mainspeaker + ' -' + title + ' -' + [description]\n",
                "FROM   conferencesessions.dbo.sessions\n",
                "WHERE  speakers LIKE '%weissman%'\n",
                "\n",
                "SET @prompt = Replace(Replace(@prompt, Char(13), ''), Char(10), '')\n",
                "\n",
                "DECLARE @response NVARCHAR(max)\n",
                "DECLARE @model NVARCHAR(250) = N'smollm2'\n",
                "DECLARE @payload NVARCHAR(max) = N'{\"model\":\"' + @model + '\",\"prompt\":\"' + @prompt + '\",\"stream\": false }'\n",
                "\n",
                "EXEC Sp_invoke_external_rest_endpoint\n",
                "  @url = N'https://localhost:443/api/generate',\n",
                "  @payload = @payload,\n",
                "  @timeout = 230,\n",
                "  @response = @response output;\n",
                "\n",
                "SELECT value FROM   Openjson(Json_query(@response, '$.result')) A WHERE  [key] = 'response' "
            ]
        },
        {
            "cell_type": "code",
            "execution_count": null,
            "metadata": {
                "polyglot_notebook": {
                    "kernelName": "sql-sql2025"
                },
                "vscode": {
                    "languageId": "polyglot-notebook"
                }
            },
            "outputs": [],
            "source": [
                "DECLARE @apiKey NVARCHAR(255) = 'XXX'\n",
                "DECLARE @url NVARCHAR(max) =  N'https://api.exchangeratesapi.io/v1/latest?access_key=' + @apikey + '&base=EUR&symbols=USD,GBP'\n",
                "DECLARE @response NVARCHAR(max)\n",
                "\n",
                "EXEC Sp_invoke_external_rest_endpoint\n",
                "  @url = @url,\n",
                "  @response = @response output\n",
                "\n",
                "SELECT [key],\n",
                "       value\n",
                "FROM   Openjson(Json_query(@response, '$.result.rates'), 'strict $') AS export "
            ]
        },
        {
            "cell_type": "code",
            "execution_count": null,
            "metadata": {
                "polyglot_notebook": {
                    "kernelName": "sql-sql2025"
                },
                "vscode": {
                    "languageId": "polyglot-notebook"
                }
            },
            "outputs": [],
            "source": [
                "CREATE DATABASE SCOPED CREDENTIAL [https://api.exchangeratesapi.io/]\n",
                "WITH IDENTITY = 'HTTPEndpointHeaders', SECRET = '{\"access_key\":\"XXX\"}';"
            ]
        },
        {
            "cell_type": "code",
            "execution_count": null,
            "metadata": {
                "polyglot_notebook": {
                    "kernelName": "sql-sql2025"
                },
                "vscode": {
                    "languageId": "polyglot-notebook"
                }
            },
            "outputs": [],
            "source": [
                "DECLARE @url NVARCHAR(max) = N'https://api.exchangeratesapi.io/v1/latest?base=EUR&symbols=USD,GBP'\n",
                "DECLARE @response NVARCHAR(max)\n",
                "\n",
                "EXEC Sp_invoke_external_rest_endpoint\n",
                "  @credential = [https://api.exchangeratesapi.io/],\n",
                "  @url = @url,\n",
                "  @response = @response output\n",
                "\n",
                "SELECT [key],\n",
                "       value\n",
                "FROM   Openjson(Json_query(@response, '$.result'), 'strict $') AS export "
            ]
        },
        {
            "cell_type": "code",
            "execution_count": null,
            "metadata": {
                "polyglot_notebook": {
                    "kernelName": "sql-sql2025"
                },
                "vscode": {
                    "languageId": "polyglot-notebook"
                }
            },
            "outputs": [],
            "source": [
                "ALTER DATABASE SCOPED CREDENTIAL [https://api.exchangeratesapi.io/]\n",
                "WITH IDENTITY = 'HttpEndpointQueryString', SECRET = '{\"access_key\":\"XXX\"}';"
            ]
        },
        {
            "cell_type": "code",
            "execution_count": null,
            "metadata": {
                "polyglot_notebook": {
                    "kernelName": "sql-sql2025"
                },
                "vscode": {
                    "languageId": "polyglot-notebook"
                }
            },
            "outputs": [],
            "source": [
                "DECLARE @url NVARCHAR(max) = N'https://api.exchangeratesapi.io/v1/latest?base=EUR&symbols=USD,GBP'\n",
                "DECLARE @response NVARCHAR(max)\n",
                "\n",
                "EXEC Sp_invoke_external_rest_endpoint\n",
                "  @credential = [https://api.exchangeratesapi.io/],\n",
                "  @url = @url,\n",
                "  @response = @response output\n",
                "\n",
                "SELECT [key],\n",
                "       value\n",
                "FROM   Openjson(Json_query(@response, '$.result.rates'), 'strict $') AS export "
            ]
        },
        {
            "cell_type": "code",
            "execution_count": null,
            "metadata": {
                "polyglot_notebook": {
                    "kernelName": "sql-sql2025"
                },
                "vscode": {
                    "languageId": "polyglot-notebook"
                }
            },
            "outputs": [],
            "source": [
                "DECLARE @Result int\n",
                "DECLARE @url NVARCHAR(max) = N'https://api.exchangeratesapi.io/v1/latest?base=EUR&symbols=USD,GBP'\n",
                "DECLARE @response NVARCHAR(max)\n",
                "\n",
                "EXEC @Result =  Sp_invoke_external_rest_endpoint\n",
                "  @credential = [https://api.exchangeratesapi.io/],\n",
                "  @url = @url,\n",
                "  @response = @response output\n",
                "\n",
                "SELECT @result,@response"
            ]
        },
        {
            "cell_type": "code",
            "execution_count": null,
            "metadata": {
                "polyglot_notebook": {
                    "kernelName": "sql-sql2025"
                },
                "vscode": {
                    "languageId": "polyglot-notebook"
                }
            },
            "outputs": [],
            "source": [
                "DECLARE @Result int\n",
                "DECLARE @url NVARCHAR(max) = N'https://api.exchangeratesapi.io/v1/latest?base=EUR&symbols=USD,GBP'\n",
                "DECLARE @response NVARCHAR(max)\n",
                "\n",
                "EXEC @Result =  Sp_invoke_external_rest_endpoint\n",
                "  @url = @url,\n",
                "  @response = @response output\n",
                "\n",
                "SELECT @result,@response"
            ]
        },
        {
            "cell_type": "code",
            "execution_count": null,
            "metadata": {
                "polyglot_notebook": {
                    "kernelName": "sql-sql2025"
                },
                "vscode": {
                    "languageId": "polyglot-notebook"
                }
            },
            "outputs": [],
            "source": [
                "IF EXISTS (SELECT * FROM sys.database_scoped_credentials WHERE NAME = 'https://test.api.amadeus.com/')\n",
                "  BEGIN\n",
                "      DROP DATABASE scoped credential [https://test.api.amadeus.com/];\n",
                "  END\n",
                "\n",
                "GO\n",
                "\n",
                "DECLARE @response NVARCHAR(max)\n",
                "\n",
                "EXEC Sp_invoke_external_rest_endpoint\n",
                "  @url = N'https://test.api.amadeus.com/v1/security/oauth2/token',\n",
                "  @headers='{\"content-type\":\"application/x-www-form-urlencoded\"}',\n",
                "  @payload=N'grant_type=client_credentials&client_id=XXX&client_secret=XXX',\n",
                "  @method = 'POST',\n",
                "  @response = @response output;\n",
                "\n",
                "DECLARE @secret NVARCHAR(max)\n",
                "\n",
                "SELECT @secret = value\n",
                "FROM   Openjson(Json_query(@response, '$.result')) A\n",
                "WHERE  [key] = 'access_token'\n",
                "\n",
                "SET @secret = N'{\"Authorization\":\"Bearer ' + @secret + '\"}'\n",
                "SET @secret = N'CREATE DATABASE SCOPED CREDENTIAL [https://test.api.amadeus.com/] WITH IDENTITY = ''HTTPEndpointHeaders'', SECRET = ''' + @secret + ''''\n",
                "\n",
                "SELECT @secret\n",
                "\n",
                "EXEC Sp_executesql  @secret "
            ]
        },
        {
            "cell_type": "code",
            "execution_count": null,
            "metadata": {
                "polyglot_notebook": {
                    "kernelName": "sql-sql2025"
                },
                "vscode": {
                    "languageId": "polyglot-notebook"
                }
            },
            "outputs": [],
            "source": [
                "DECLARE @response NVARCHAR(max)\n",
                "DECLARE @From NVARCHAR(3) = 'NUE'\n",
                "DECLARE @To NVARCHAR(3) = 'MEM'\n",
                "DECLARE @Date NVARCHAR(10) = CONVERT(NVARCHAR, Dateadd(d, 1, Getdate()), 23)\n",
                "DECLARE @url NVARCHAR(max) = N'https://test.api.amadeus.com/v2/shopping/flight-offers?originLocationCode=' + @From + '&destinationLocationCode=' + @To + '&departureDate=' + @Date + '&adults=1&travelClass=BUSINESS&includedAirlineCodes=LH,UA'\n",
                "\n",
                "EXEC Sp_invoke_external_rest_endpoint\n",
                "  @url = @url,\n",
                "  @credential = [https://test.api.amadeus.com/],\n",
                "  @method = 'GET',\n",
                "  @response = @response output;\n",
                "\n",
                "SELECT Json_value(value, '$.price.grandTotal')                                                     Price,\n",
                "       Replace(Json_value(value, '$.itineraries[0].duration'), 'PT', '')                           Duration,\n",
                "       Replace(Json_query(value, '$.itineraries[0].segments[*].arrival.iataCode'), ','+ @To, '')   Stops\n",
                "FROM   Openjson(Json_query(@response, '$.result.data'))\n",
                "ORDER  BY duration "
            ]
        },
        {
            "cell_type": "code",
            "execution_count": null,
            "metadata": {
                "polyglot_notebook": {
                    "kernelName": "sql-sql2025"
                },
                "vscode": {
                    "languageId": "polyglot-notebook"
                }
            },
            "outputs": [],
            "source": [
                "IF EXISTS (SELECT * FROM sys.database_scoped_credentials WHERE NAME = 'https://management.azure.com/')\n",
                "  BEGIN\n",
                "      DROP DATABASE scoped credential [https://management.azure.com/];\n",
                "  END\n",
                "\n",
                "GO\n",
                "\n",
                "DECLARE @response NVARCHAR(max)\n",
                "\n",
                "EXEC Sp_invoke_external_rest_endpoint\n",
                "  @url = N'https://login.microsoftonline.com/XXX/oauth2/token',\n",
                "  @headers='{\"content-type\":\"application/x-www-form-urlencoded\"}',\n",
                "  @payload=N'grant_type=client_credentials&client_id=XXX&client_secret=XXX&resource=https%3A%2F%2Fmanagement.azure.com%2F',\n",
                "  @method = 'POST',\n",
                "  @response = @response output;\n",
                "\n",
                "DECLARE @secret NVARCHAR(max)\n",
                "\n",
                "SELECT @secret = value\n",
                "FROM   Openjson(Json_query(@response, '$.result')) A\n",
                "WHERE  [key] = 'access_token'\n",
                "\n",
                "SET @secret = N'{\"Authorization\":\"Bearer ' + @secret + '\"}'\n",
                "SET @secret = N'CREATE DATABASE SCOPED CREDENTIAL [https://management.azure.com/] WITH IDENTITY = ''HTTPEndpointHeaders'', SECRET = ''' + @secret + ''''\n",
                "\n",
                "EXEC Sp_executesql  @secret "
            ]
        },
        {
            "cell_type": "code",
            "execution_count": null,
            "metadata": {
                "polyglot_notebook": {
                    "kernelName": "sql-sql2025"
                },
                "vscode": {
                    "languageId": "polyglot-notebook"
                }
            },
            "outputs": [],
            "source": [
                "DECLARE @response NVARCHAR(max)\n",
                "\n",
                "EXEC Sp_invoke_external_rest_endpoint @url = 'https://management.azure.com/subscriptions/XXX/providers/Microsoft.Compute/disks?api-version=2025-01-02',\n",
                "@credential = [https://management.azure.com/],\n",
                "@method = 'GET',\n",
                "@response = @response output;\n",
                "\n",
                "SELECT *\n",
                "FROM   (SELECT Json_value(value, '$.name')            DiskName,\n",
                "               Json_value(value, '$.properties.tier') DiskTier\n",
                "        FROM   Openjson(Json_query(@response, '$.result.value'))) A\n",
                "WHERE  diskname LIKE 'SQL2025%' "
            ]
        }
    ],
    "metadata": {
        "kernelspec": {
            "display_name": ".NET (C#)",
            "language": "C#",
            "name": ".net-csharp"
        },
        "language_info": {
            "name": "sql",
            "version": ""
        },
        "polyglot_notebook": {
            "kernelInfo": {
                "defaultKernelName": "csharp",
                "items": [
                    {
                        "aliases": [],
                        "name": "csharp"
                    },
                    {
                        "aliases": [],
                        "languageName": "T-SQL",
                        "name": "sql-sql2025"
                    }
                ]
            }
        }
    },
    "nbformat": 4,
    "nbformat_minor": 2
}
