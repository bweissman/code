{
    "metadata": {
        "kernelspec": {
            "name": "powershell",
            "display_name": "PowerShell",
            "language": "powershell"
        },
        "language_info": {
            "name": "powershell",
            "codemirror_mode": "shell",
            "mimetype": "text/x-sh",
            "file_extension": ".ps1"
        }
    },
    "nbformat_minor": 2,
    "nbformat": 4,
    "cells": [
        {
            "cell_type": "code",
            "source": [
                "kubectl config use-context kubernetes-admin@kubernetes\r\n",
                "$ENV:ACCEPT_EULA='yes'\r\n",
                "$ENV:AZDATA_USERNAME='admin'\r\n",
                "$ENV:AZDATA_PASSWORD='P@ssw0rd'\r\n",
                "$Env:SPN_AUTHORITY='https://login.microsoftonline.com'\r\n",
                "$AzureSub='<YourSubscription>'\r\n",
                "$AzureRG=\"arcDemo\"\r\n",
                "$AzureLAWS=\"LogAnalyticsArcDemos\"\r\n",
                "$AzureSP='arcdemo-loganalytics'"
            ],
            "metadata": {
                "azdata_cell_guid": "4a370629-3a34-45e4-ac73-e04b5f821922",
                "tags": []
            },
            "outputs": [],
            "execution_count": null
        },
        {
            "cell_type": "code",
            "source": [
                "azdata arc dc create --connectivity-mode Indirect -n arc-dc-local -ns arc -s $AzureSub -g arcDemo -l eastus -sc local-storage --profile-name azure-arc-kubeadm"
            ],
            "metadata": {
                "azdata_cell_guid": "b8bfffa3-d34b-4cb4-88de-9f30436ab305"
            },
            "outputs": [],
            "execution_count": null
        },
        {
            "cell_type": "code",
            "source": [
                "kubectl get pods -n arc"
            ],
            "metadata": {
                "azdata_cell_guid": "63349bfe-a2e7-4c5d-b426-869afcc16252"
            },
            "outputs": [],
            "execution_count": null
        },
        {
            "cell_type": "markdown",
            "source": [
                "Let's take a look at the Wizard - therefore, install Arc Extension\n",
                "\n",
                "Let's also connect to our instance in ADS."
            ],
            "metadata": {
                "azdata_cell_guid": "545f11d5-c82e-48d8-9fdd-9d766d7158e9"
            }
        },
        {
            "cell_type": "code",
            "source": [
                "azdata login -ns arc"
            ],
            "metadata": {
                "azdata_cell_guid": "8df29a38-c331-4f4a-bde6-1100d39dec51"
            },
            "outputs": [],
            "execution_count": null
        },
        {
            "cell_type": "code",
            "source": [
                "azdata arc sql mi list"
            ],
            "metadata": {
                "azdata_cell_guid": "630ef403-65c8-46a9-984b-c2574da842dd"
            },
            "outputs": [],
            "execution_count": null
        },
        {
            "cell_type": "code",
            "source": [
                "azdata arc sql mi create -n local-mi-01 -scl local-storage -scd local-storage -scdl local-storage"
            ],
            "metadata": {
                "azdata_cell_guid": "218f883f-d6ff-4ec7-aa31-439a95991eec"
            },
            "outputs": [],
            "execution_count": null
        },
        {
            "cell_type": "code",
            "source": [
                "# azdata arc sql mi delete -n local-mi-01"
            ],
            "metadata": {
                "azdata_cell_guid": "ca9bb229-02a4-4c9d-bbe7-f6daf6ab01b4"
            },
            "outputs": [],
            "execution_count": null
        },
        {
            "cell_type": "code",
            "source": [
                "azdata arc sql mi list"
            ],
            "metadata": {
                "azdata_cell_guid": "03483ff6-471d-40ec-8bdb-8b8837419f69"
            },
            "outputs": [],
            "execution_count": null
        },
        {
            "cell_type": "markdown",
            "source": [
                "Connect to MI 1 in ADS"
            ],
            "metadata": {
                "azdata_cell_guid": "3b9e58ec-75a6-4448-9b3d-bdbe4660d76c"
            }
        },
        {
            "cell_type": "code",
            "source": [
                "kubectl exec local-mi-01-0 -n arc -c arc-sqlmi -- wget https://github.com/Microsoft/sql-server-samples/releases/download/adventureworks/AdventureWorks2019.bak -O /var/opt/mssql/data/AdventureWorks2019.bak"
            ],
            "metadata": {
                "azdata_cell_guid": "9519d5ff-a43f-4495-bbe3-03120327ae81"
            },
            "outputs": [],
            "execution_count": null
        },
        {
            "cell_type": "code",
            "source": [
                "kubectl exec local-mi-01-0 -n arc -c arc-sqlmi -- /opt/mssql-tools/bin/sqlcmd -S localhost -U admin -P \"P@ssw0rd\" -Q \"RESTORE DATABASE [AdventureWorks2019] FROM  DISK = N'/var/opt/mssql/data/AdventureWorks2019.bak' WITH  FILE = 1,  MOVE N'AdventureWorks2017' TO N'/var/opt/mssql/data/AdventureWorks2019.mdf',  MOVE N'AdventureWorks2017_log' TO N'/var/opt/mssql/data/AdventureWorks2019_log.ldf',  NOUNLOAD,  STATS = 5\""
            ],
            "metadata": {
                "azdata_cell_guid": "57fcb8ae-226e-4ecc-8909-8e6a32da396d"
            },
            "outputs": [],
            "execution_count": null
        },
        {
            "cell_type": "markdown",
            "source": [
                "We can also copy and restore:"
            ],
            "metadata": {
                "azdata_cell_guid": "c56929a0-c34b-454d-b542-a7a13aed0eca"
            }
        },
        {
            "cell_type": "code",
            "source": [
                "kubectl cp ..\\..\\Files\\AdventureWorks2017.bak arc/local-mi-01-0:var/opt/mssql/data/AdventureWorks2017.bak -c arc-sqlmi"
            ],
            "metadata": {
                "azdata_cell_guid": "da90f603-d3ed-4fdf-bb17-2a0c69c1ec82"
            },
            "outputs": [],
            "execution_count": null
        },
        {
            "cell_type": "markdown",
            "source": [
                "Check out Grafana"
            ],
            "metadata": {
                "azdata_cell_guid": "d8a82ec5-9a08-46bb-82c6-6a318a82e047"
            }
        },
        {
            "cell_type": "markdown",
            "source": [
                "But how can I see that in Azure?"
            ],
            "metadata": {
                "azdata_cell_guid": "c1fd9901-f071-48af-8e1b-4a2981487d2d"
            }
        },
        {
            "cell_type": "code",
            "source": [
                "az login"
            ],
            "metadata": {
                "azdata_cell_guid": "f67e8024-0e47-44f8-9afb-2e9cc8e45e61"
            },
            "outputs": [],
            "execution_count": null
        },
        {
            "cell_type": "code",
            "source": [
                "az account set -s $AzureSub"
            ],
            "metadata": {
                "azdata_cell_guid": "604105bd-3b5a-4388-95be-f6c0bc06d392"
            },
            "outputs": [],
            "execution_count": null
        },
        {
            "cell_type": "code",
            "source": [
                "$SP=(az ad sp create-for-rbac --name http://$AzureSP)\r\n",
                "$Env:SPN_CLIENT_ID=($SP | ConvertFrom-Json).appId\r\n",
                "$Env:SPN_CLIENT_SECRET=($SP | ConvertFrom-Json).password\r\n",
                "$Env:SPN_TENANT_ID=($SP | ConvertFrom-Json).tenant\r\n",
                "$SP.Replace($Env:SPN_CLIENT_SECRET,'XXXXX')"
            ],
            "metadata": {
                "azdata_cell_guid": "35309d22-d30e-49e4-ae06-670647e09a95"
            },
            "outputs": [],
            "execution_count": null
        },
        {
            "cell_type": "code",
            "source": [
                "az role assignment create --assignee $Env:SPN_CLIENT_ID --role \"Monitoring Metrics Publisher\" --scope subscriptions/$AzureSub"
            ],
            "metadata": {
                "azdata_cell_guid": "37b43fa4-d317-471e-88ca-0a62fa58803d"
            },
            "outputs": [],
            "execution_count": null
        },
        {
            "cell_type": "code",
            "source": [
                "$LAWS=(az monitor log-analytics workspace create -g $AzureRG -n $AzureLAWS)\r\n",
                "$Env:WORKSPACE_ID=($LAWS | ConvertFrom-Json).customerId"
            ],
            "metadata": {
                "azdata_cell_guid": "01d384a7-bee2-4442-8ded-2a118b83230c"
            },
            "outputs": [],
            "execution_count": null
        },
        {
            "cell_type": "code",
            "source": [
                "$LAWSKEYS=(az monitor log-analytics workspace get-shared-keys -g $AzureRG -n $AzureLAWS)\r\n",
                "$Env:WORKSPACE_SHARED_KEY=($LAWSKEYS | ConvertFrom-Json).primarySharedKey"
            ],
            "metadata": {
                "azdata_cell_guid": "68a26de8-e12f-4a1c-8584-e2a352197892"
            },
            "outputs": [],
            "execution_count": null
        },
        {
            "cell_type": "markdown",
            "source": [
                "Indirect vs. Direct Mode:"
            ],
            "metadata": {
                "azdata_cell_guid": "cc26d26f-bc06-4dd6-b440-fd6c98924009"
            }
        },
        {
            "cell_type": "code",
            "source": [
                "azdata arc dc export -t metrics --path metrics.json --force\r\n",
                "azdata arc dc export -t logs --path logs.json --force"
            ],
            "metadata": {
                "azdata_cell_guid": "25e77233-57e6-4879-b6ff-9fd9f3f4b7a7",
                "tags": []
            },
            "outputs": [],
            "execution_count": null
        },
        {
            "cell_type": "code",
            "source": [
                "azdata arc dc upload --path metrics.json\r\n",
                "azdata arc dc upload --path logs.json"
            ],
            "metadata": {
                "azdata_cell_guid": "b4ba9672-d767-4258-a459-482b0014947d"
            },
            "outputs": [],
            "execution_count": null
        },
        {
            "cell_type": "code",
            "source": [
                "azdata arc sql mi delete -n local-mi-01\r\n",
                "azdata arc dc delete -ns arc -n arc-dc-local --force"
            ],
            "metadata": {
                "azdata_cell_guid": "03d33b37-bf37-46fb-9efd-571e76c4de5c"
            },
            "outputs": [],
            "execution_count": null
        },
        {
            "cell_type": "code",
            "source": [
                "azdata arc dc create --connectivity-mode Direct -n arc-dc-local-direct -ns arc -s $AzureSub -g arcDemo -l eastus -sc local-storage --profile-name azure-arc-kubeadm"
            ],
            "metadata": {
                "azdata_cell_guid": "08efea0f-9ad9-412b-9aeb-1dc942527079"
            },
            "outputs": [],
            "execution_count": null
        },
        {
            "cell_type": "code",
            "source": [
                "#az ad sp delete --id $Env:SPN_CLIENT_ID"
            ],
            "metadata": {
                "azdata_cell_guid": "b6fd68ca-4908-4151-8281-86d1f0e340de"
            },
            "outputs": [],
            "execution_count": null
        }
    ]
}